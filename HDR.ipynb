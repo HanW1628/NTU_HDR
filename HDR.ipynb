{
 "cells": [
  {
   "cell_type": "code",
   "execution_count": 2,
   "metadata": {},
   "outputs": [
    {
     "name": "stdout",
     "output_type": "stream",
     "text": [
      "-1 -1\n",
      "-2 -1\n",
      "2 -1\n",
      "-2 -1\n",
      "-1 -3\n",
      "-1 -2\n",
      "2 -3\n",
      "1 -3\n"
     ]
    }
   ],
   "source": [
    "import numpy as np\n",
    "import cv2\n",
    "import glob\n",
    "import os\n",
    "import math\n",
    "# threshold <= 10 has better result, 15 has bad result\n",
    "def Convert_Image(src_img, threshold_i=5):\n",
    "    gray_img = np.zeros((src_img.shape[0], src_img.shape[1]), dtype=np.uint8)\n",
    "    mtb_img = np.zeros((src_img.shape[0], src_img.shape[1]), dtype=np.uint8)\n",
    "    mask_img = np.zeros((src_img.shape[0], src_img.shape[1]), dtype=np.uint8)\n",
    "    denoise_img = np.zeros((src_img.shape[0], src_img.shape[1]), dtype=np.uint8)\n",
    "\n",
    "    # convert to grayscale\n",
    "    temp_img = src_img.astype(np.uint32)    # prevent overflow\n",
    "    gray_img = (temp_img[:,:,0]*19/256 + temp_img[:,:,1]*183/256 + temp_img[:,:,2]*54/256)     # BGR\n",
    "    med_i = np.median(gray_img)\n",
    "\n",
    "    # convert to MTB\n",
    "    mtb_img = np.where(gray_img > med_i, 255, 0)\n",
    "\n",
    "    # exclusion map\n",
    "    upper_bound = med_i + threshold_i\n",
    "    lower_bound = med_i - threshold_i\n",
    "    mask_img[gray_img < lower_bound] = 255\n",
    "    mask_img[gray_img > upper_bound] = 255\n",
    "\n",
    "    # bind mask_img and mtb_img\n",
    "    denoise_img = np.logical_and(mtb_img, mask_img)\n",
    "    \n",
    "    \n",
    "    return denoise_img\n",
    "\n",
    "# shift tar to find current best dx, dy in 9 pixels\n",
    "def Shift_Image(src, tar, last_dx, last_dy):\n",
    "    # convert to grayscale first (denoise_img)\n",
    "    src_dimg = Convert_Image(src)\n",
    "    tar_dimg = Convert_Image(tar)\n",
    "\n",
    "    # shift last dx,dy\n",
    "    h, w = src_dimg.shape[:2]\n",
    "    min = h * w\n",
    "    M = np.float32([[1, 0, last_dx*2], [0, 1, last_dy*2]])\n",
    "    src_dimg = src_dimg.astype(np.uint8)\n",
    "    tar_dimg = tar_dimg.astype(np.uint8)\n",
    "    new_tar = cv2.warpAffine(tar_dimg, M, (w, h))\n",
    "\n",
    "    # then find current best dx, dy\n",
    "    for x in range(-1,2):\n",
    "        for y in range(-1,2):\n",
    "            M = np.float32([[1, 0, x], [0, 1, y]])        # M為平移矩陣,x為寬移動的距離,y為高\n",
    "            tmp_tar = cv2.warpAffine(new_tar, M, (w, h))  # 仿射變換函式   (w, h):平移後圖像的大小\n",
    "            z = np.sum(np.logical_xor(src_dimg, tmp_tar) == 1)\n",
    "            if z < min:\n",
    "                min = z\n",
    "                dx = x\n",
    "                dy = y\n",
    "\n",
    "    # image * 2, so shift * 2\n",
    "    return dx + last_dx*2, dy + last_dy*2\n",
    "\n",
    "# input RGB image src, tar    num = scale 1/2 times\n",
    "def Image_Alignment(src, tar, num):\n",
    "    if num == 0:\n",
    "        dx, dy = Shift_Image(src, tar, 0, 0)\n",
    "    else:\n",
    "        h, w = src.shape[:2]\n",
    "        h_src = cv2.resize(src, (h//2,w//2))\n",
    "        h_tar = cv2.resize(tar, (h//2,w//2))\n",
    "        last_dx, last_dy = Image_Alignment(h_src, h_tar, num-1)\n",
    "        dx, dy = Shift_Image(src, tar, last_dx, last_dy)\n",
    "\n",
    "    return dx, dy  \n",
    "\n",
    "\n",
    "# test\n",
    "# a = cv2.imread('my_data/my_1.jpg')\n",
    "# b = cv2.imread('my_data/my_2.jpg')\n",
    "\n",
    "# d_x, d_y = Image_Alignment(a, b, 5)\n",
    "\n",
    "# print(d_x,d_y)\n",
    "\n",
    "# h, w = b.shape[:2]\n",
    "# M = np.float32([[1, 0, d_x], [0, 1, d_y]])    # M為平移矩陣,x為寬移動的距離,y為高\n",
    "# tmp_tar = cv2.warpAffine(b, M, (w, h))        # 仿射變換函式   (w, h):平移後圖像的大小\n",
    "\n",
    "# cv2.imwrite(os.path.join('my_output','shift_img.jpg'), tmp_tar)\n",
    "\n",
    "\n",
    "# main()\n",
    "\n",
    "# Read file\n",
    "# imgspath = glob.glob(os.path.join('memorial','*.png'))\n",
    "imgspath = glob.glob(os.path.join('hdr_pic/house','*.jpg'))\n",
    "# imgspath = glob.glob(os.path.join('hdr_pic/library','*.jpg'))\n",
    "imgs = [cv2.imread(i) for i in imgspath]\n",
    "All_Img = []\n",
    "\n",
    "\n",
    "source_image = imgs[0]\n",
    "All_Img.append(source_image)\n",
    "for i,ele in enumerate(imgs[1:]):\n",
    "    d_x, d_y = Image_Alignment(source_image, ele, 5)\n",
    "    print(d_x,d_y)\n",
    "\n",
    "    h, w = ele.shape[:2]\n",
    "    M = np.float32([[1, 0, d_x], [0, 1, d_y]])\n",
    "    after_shift_ele = cv2.warpAffine(ele, M, (w, h)) \n",
    "    All_Img.append(after_shift_ele)\n",
    "    # cv2.imwrite(os.path.join('memorial_output', f'img{i}.png'), after_shift_ele)\n",
    "    cv2.imwrite(os.path.join('hdr_pic_output/house', f'img{i}.jpg'), after_shift_ele)\n",
    "    # cv2.imwrite(os.path.join('hdr_pic_output/library', f'img{i}.jpg'), after_shift_ele)\n"
   ]
  },
  {
   "cell_type": "code",
   "execution_count": 22,
   "metadata": {},
   "outputs": [
    {
     "name": "stdout",
     "output_type": "stream",
     "text": [
      "(256, 1)\n",
      "(256, 1)\n",
      "(256, 1)\n"
     ]
    },
    {
     "data": {
      "image/png": "[encoded data removed]",
      "text/plain": [
       "<Figure size 432x288 with 1 Axes>"
      ]
     },
     "metadata": {
      "needs_background": "light"
     },
     "output_type": "display_data"
    },
    {
     "data": {
      "image/png": "[encoded data removed]",
      "text/plain": [
       "<Figure size 432x288 with 1 Axes>"
      ]
     },
     "metadata": {
      "needs_background": "light"
     },
     "output_type": "display_data"
    },
    {
     "data": {
      "image/png": "[encoded data removed]",
      "text/plain": [
       "<Figure size 432x288 with 1 Axes>"
      ]
     },
     "metadata": {
      "needs_background": "light"
     },
     "output_type": "display_data"
    }
   ],
   "source": [
    "# from scipy.sparse import csr_matrix\n",
    "import math\n",
    "import numpy as np\n",
    "import cv2\n",
    "\n",
    "N,P = 50,9\n",
    "\n",
    "matrix_b = np.zeros((N*P+255,1))\n",
    "matrix_Left_Top = np.zeros((N*P,256))\n",
    "matrix_Right_Top = np.zeros((N*P,N))\n",
    "# pic = (np.random.rand(P,1024,768)*255).astype(dtype=np.int32)\n",
    "pic = All_Img\n",
    "\n",
    "def weight(zij):\n",
    "    return zij if zij < 128 else 256 - zij\n",
    "\n",
    "\n",
    "def solution(pic, color):\n",
    "    color_map = {\n",
    "        0:'g',\n",
    "        1:'b',\n",
    "        2:'r'\n",
    "    }\n",
    "    h,w = imgs[0].shape[:2]\n",
    "    pointy = (np.random.rand(N)*h).astype(dtype=np.int32)\n",
    "    pointx = (np.random.rand(N)*w).astype(dtype=np.int32)\n",
    "    for i in range(N):    \n",
    "        for j in range(P):\n",
    "            w = weight(pic[j][pointy[i]][pointx[i]][color]+1)\n",
    "            # a矩陣 左上 n*p X 256 的矩陣\n",
    "            matrix_Left_Top[i*P+j][pic[j][pointy[i]][pointx[i]][color]] = w\n",
    "            # a矩陣 右上 n*p X n 的矩陣\n",
    "            matrix_Right_Top[i*P+j][i] = -w\n",
    "            # b矩陣 上半部\n",
    "            matrix_b[i*P+j] = math.log(np.power((0.5),j+1)) * w\n",
    "\n",
    "\n",
    "    matrix_Top = np.hstack((matrix_Left_Top,matrix_Right_Top))\n",
    "    matrix_Middle = np.zeros((1,256+N))\n",
    "    matrix_Middle[0][127] = 1\n",
    "    matrix_Up = np.vstack((matrix_Top,matrix_Middle))\n",
    "\n",
    "    matrix_Bottom = np.zeros((254,256+N))\n",
    "    for i in range(254):\n",
    "        matrix_Bottom[i][i] = weight(i+1)\n",
    "        matrix_Bottom[i][i+1] = -2 * weight(i+1)\n",
    "        matrix_Bottom[i][i+2] = weight(i+1)\n",
    "\n",
    "    # matrix a DONE\n",
    "    matrix_Bottom = matrix_Bottom *20\n",
    "    matrix_A = np.vstack((matrix_Up,matrix_Bottom))\n",
    "\n",
    "\n",
    "    solution = np.linalg.lstsq(matrix_A,matrix_b, rcond=None)[0][:256]\n",
    "    # solution = np.exp(solution)\n",
    "    # solution = np.asanyarray(solution)\n",
    "\n",
    "    print(solution.shape)\n",
    "\n",
    "    import matplotlib.pyplot as plt\n",
    "\n",
    "    # fig = plt.figure()\n",
    "    # ax = fig.add_subplot(111)\n",
    "    # plt.plot(solution, 'r')\n",
    "    # print(solution.shape)\n",
    "\n",
    "\n",
    "    fig = plt.figure()\n",
    "    ax = fig.add_subplot(111)\n",
    "    ax.plot(solution, f'{color_map[color]}o')\n",
    "    plt.savefig(f'Response Curse color_map[color].jpg')\n",
    "    return solution\n",
    "    \n",
    "solutions = [solution(pic, i) for i in range(3)]\n",
    "    \n"
   ]
  },
  {
   "cell_type": "code",
   "execution_count": 27,
   "metadata": {},
   "outputs": [
    {
     "data": {
      "text/plain": [
       "array([-1.70489244])"
      ]
     },
     "execution_count": 27,
     "metadata": {},
     "output_type": "execute_result"
    }
   ],
   "source": []
  },
  {
   "cell_type": "code",
   "execution_count": 97,
   "metadata": {},
   "outputs": [
    {
     "name": "stdout",
     "output_type": "stream",
     "text": [
      "1.0\n",
      "0.5\n",
      "0.25\n",
      "0.125\n",
      "0.0625\n"
     ]
    }
   ],
   "source": [
    "for j in range(5):\n",
    "    print(np.power((0.5),j))"
   ]
  },
  {
   "cell_type": "code",
   "execution_count": 55,
   "metadata": {},
   "outputs": [
    {
     "ename": "SyntaxError",
     "evalue": "invalid syntax (2274892585.py, line 8)",
     "output_type": "error",
     "traceback": [
      "\u001b[1;36m  Input \u001b[1;32mIn [55]\u001b[1;36m\u001b[0m\n\u001b[1;33m    test[:50][pic[a[:50]*]]=1\u001b[0m\n\u001b[1;37m                         ^\u001b[0m\n\u001b[1;31mSyntaxError\u001b[0m\u001b[1;31m:\u001b[0m invalid syntax\n"
     ]
    }
   ],
   "source": [
    "N,P=50,10\n",
    "test = np.zeros((N*P,256))\n",
    "pic = (np.random.rand(1024,768)*255).astype(dtype=np.int32)\n",
    "pointx = (np.random.rand(50)*1024).astype(dtype=np.int32)\n",
    "pointy = (np.random.rand(50)*768).astype(dtype=np.int32)\n",
    "a = np.concatenate((np.array([pointx]),np.array([pointy])),axis=0)\n",
    "a.transpose()\n",
    "test[:50][pic[a[:50]]]=1"
   ]
  },
  {
   "cell_type": "code",
   "execution_count": 76,
   "metadata": {},
   "outputs": [
    {
     "data": {
      "text/plain": [
       "(2, 4)"
      ]
     },
     "execution_count": 76,
     "metadata": {},
     "output_type": "execute_result"
    }
   ],
   "source": [
    "mat=[1,2,3,4]\n",
    "may=[5,6,7,8]\n",
    "np.vstack((mat,may)).shape\n"
   ]
  },
  {
   "cell_type": "code",
   "execution_count": null,
   "metadata": {},
   "outputs": [],
   "source": []
  },
  {
   "cell_type": "code",
   "execution_count": 51,
   "metadata": {},
   "outputs": [
    {
     "data": {
      "text/plain": [
       "array([[ 165,   14],\n",
       "       [ 582,  482],\n",
       "       [ 454,  657],\n",
       "       [ 511,  366],\n",
       "       [ 817,  463],\n",
       "       [ 278,  390],\n",
       "       [ 354,  669],\n",
       "       [ 536,  147],\n",
       "       [ 845,   25],\n",
       "       [ 865,  711],\n",
       "       [ 873,   99],\n",
       "       [ 193,  115],\n",
       "       [ 847,  378],\n",
       "       [ 776,   19],\n",
       "       [ 688,  430],\n",
       "       [ 208,  114],\n",
       "       [ 178,   25],\n",
       "       [ 957,  244],\n",
       "       [ 582,  681],\n",
       "       [ 690,  397],\n",
       "       [  26,  123],\n",
       "       [ 499,  301],\n",
       "       [ 598,  281],\n",
       "       [ 553,  757],\n",
       "       [ 583,  550],\n",
       "       [ 532,  401],\n",
       "       [ 585,  150],\n",
       "       [ 699,  556],\n",
       "       [ 380,  688],\n",
       "       [1002,  484],\n",
       "       [ 691,   69],\n",
       "       [ 942,  410],\n",
       "       [ 693,  644],\n",
       "       [ 364,   77],\n",
       "       [ 291,  755],\n",
       "       [ 413,  544],\n",
       "       [   6,   23],\n",
       "       [ 722,  104],\n",
       "       [ 145,  590],\n",
       "       [ 897,  667],\n",
       "       [ 606,  343],\n",
       "       [ 104,  580],\n",
       "       [ 858,  116],\n",
       "       [ 235,  399],\n",
       "       [ 596,  386],\n",
       "       [  32,  161],\n",
       "       [ 806,  736],\n",
       "       [ 617,  457],\n",
       "       [ 692,  467],\n",
       "       [ 957,  650]])"
      ]
     },
     "execution_count": 51,
     "metadata": {},
     "output_type": "execute_result"
    }
   ],
   "source": [
    "a = np.concatenate((np.array([pointx]),np.array([pointy])),axis=0)\n",
    "a.transpose()"
   ]
  }
 ],
 "metadata": {
  "interpreter": {
   "hash": "520ad7d43cd87a71c504ba0d5c38a136d1ce336835c542f50fe8ebf5f7f4e4c2"
  },
  "kernelspec": {
   "display_name": "Python 3.6.8 ('ml2022')",
   "language": "python",
   "name": "python3"
  },
  "language_info": {
   "codemirror_mode": {
    "name": "ipython",
    "version": 3
   },
   "file_extension": ".py",
   "mimetype": "text/x-python",
   "name": "python",
   "nbconvert_exporter": "python",
   "pygments_lexer": "ipython3",
   "version": "3.8.12"
  },
  "orig_nbformat": 4
 },
 "nbformat": 4,
 "nbformat_minor": 2
}
