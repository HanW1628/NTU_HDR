{
 "cells": [
  {
   "cell_type": "code",
   "execution_count": 1,
   "metadata": {},
   "outputs": [
    {
     "name": "stderr",
     "output_type": "stream",
     "text": [
      "C:\\Users\\HanWen\\AppData\\Local\\Temp\\ipykernel_7000\\3705129500.py:17: DeprecationWarning: `np.int` is a deprecated alias for the builtin `int`. To silence this warning, use `int` by itself. Doing this will not modify any behavior and is safe. When replacing `np.int`, you may wish to use e.g. `np.int64` or `np.int32` to specify the precision. If you wish to review your current use, check the release note link for additional information.\n",
      "Deprecated in NumPy 1.20; for more details and guidance: https://numpy.org/devdocs/release/1.20.0-notes.html#deprecations\n",
      "  self.src_img = self.src_img.astype(np.int)\n"
     ]
    },
    {
     "name": "stdout",
     "output_type": "stream",
     "text": [
      "g\n",
      "m\n",
      "mask\n",
      "b\n"
     ]
    },
    {
     "data": {
      "text/plain": [
       "True"
      ]
     },
     "execution_count": 1,
     "metadata": {},
     "output_type": "execute_result"
    }
   ],
   "source": [
    "import numpy as np\n",
    "import cv2\n",
    "import glob\n",
    "import os\n",
    "\n",
    "class MyImage:\n",
    "    def __init__(self, src_img):\n",
    "        self.src_img = src_img\n",
    "        self.gray_img = np.zeros((self.src_img.shape[0],self.src_img.shape[1]), dtype=int)\n",
    "        self.mtb_img  = np.zeros((self.src_img.shape[0],self.src_img.shape[1]), dtype=int)\n",
    "        self.mask_img = np.zeros((self.src_img.shape[0],self.src_img.shape[1]), dtype=int)\n",
    "        self.denoise_img = np.zeros((self.src_img.shape[0],self.src_img.shape[1]), dtype=int)\n",
    "        self.med_i = 0\n",
    "        self.threshold_i = 15\n",
    "    \n",
    "    def grayscale(self):\n",
    "        self.src_img = self.src_img.astype(np.int)\n",
    "        self.gray_img = (self.src_img[:,:,0]*19/256 + self.src_img[:,:,1]*183/256 + self.src_img[:,:,2]*54/256)\n",
    "        self.med_i = np.median(self.gray_img)\n",
    "\n",
    "    def mtb(self):\n",
    "        # # convert to MTB\n",
    "        self.mtb_img = np.where(self.gray_img > self.med_i, 255, 0)\n",
    "    \n",
    "    def mask(self):\n",
    "        # # exclusion map\n",
    "        upper_bound = self.med_i + self.threshold_i\n",
    "        lower_bound = self.med_i - self.threshold_i\n",
    "        self.mask_img[self.gray_img < lower_bound] = 255\n",
    "        self.mask_img[self.gray_img > upper_bound] = 255\n",
    "     \n",
    "    def bind_mtb_mask(self):\n",
    "        # bind mask_img and mtb_img\n",
    "        self.denoise_img = np.bitwise_and(self.mtb_img, self.mask_img)\n",
    "\n",
    "    def convert_image(self):\n",
    "        self.grayscale()\n",
    "        self.mtb()\n",
    "        self.mask()\n",
    "        self.bind_mtb_mask()\n",
    "\n",
    "# Read file\n",
    "\n",
    "\n",
    "imgspath = glob.glob(os.path.join('data','*.png'))\n",
    "imgs = [cv2.imread(i) for i in imgspath]\n",
    "\n",
    "for i,ele in enumerate(imgs):\n",
    "    myimage = MyImage(ele)\n",
    "    myimage.convert_image()\n",
    "    cv2.imwrite(os.path.join('output', f'img{i}.jpg'), myimage.denoise_img)\n",
    "    \n",
    "\n",
    "img = cv2.imread('data/memorial0061.png')\n",
    "myimage = MyImage(img)\n",
    "myimage.grayscale()\n",
    "print('g')\n",
    "myimage.mtb()\n",
    "print('m')\n",
    "myimage.mask()\n",
    "print('mask')\n",
    "myimage.bind_mtb_mask()\n",
    "print('b')\n",
    "\n",
    "# myimage.convert_image()\n",
    "cv2.imwrite('img.jpg', myimage.denoise_img)\n"
   ]
  },
  {
   "cell_type": "code",
   "execution_count": 35,
   "metadata": {},
   "outputs": [
    {
     "ename": "TypeError",
     "evalue": "can only concatenate str (not \"method-wrapper\") to str",
     "output_type": "error",
     "traceback": [
      "\u001b[1;31m---------------------------------------------------------------------------\u001b[0m",
      "\u001b[1;31mTypeError\u001b[0m                                 Traceback (most recent call last)",
      "\u001b[1;32mc:\\Users\\HanWen\\Desktop\\working\\HDR\\myHDR\\HDR.ipynb Cell 2'\u001b[0m in \u001b[0;36m<cell line: 3>\u001b[1;34m()\u001b[0m\n\u001b[0;32m      <a href='vscode-notebook-cell:/c%3A/Users/HanWen/Desktop/working/HDR/myHDR/HDR.ipynb#ch0000004?line=4'>5</a>\u001b[0m myimage \u001b[39m=\u001b[39m MyImage(n)\n\u001b[0;32m      <a href='vscode-notebook-cell:/c%3A/Users/HanWen/Desktop/working/HDR/myHDR/HDR.ipynb#ch0000004?line=5'>6</a>\u001b[0m \u001b[39m# myimage.convert_image()\u001b[39;00m\n\u001b[1;32m----> <a href='vscode-notebook-cell:/c%3A/Users/HanWen/Desktop/working/HDR/myHDR/HDR.ipynb#ch0000004?line=6'>7</a>\u001b[0m cv2\u001b[39m.\u001b[39mimwrite(\u001b[39m'\u001b[39;49m\u001b[39mde\u001b[39;49m\u001b[39m'\u001b[39;49m \u001b[39m+\u001b[39;49mi\u001b[39m.\u001b[39;49m\u001b[39m__str__\u001b[39;49m\u001b[39m+\u001b[39m \u001b[39m'\u001b[39m\u001b[39m.png\u001b[39m\u001b[39m'\u001b[39m, n)\n\u001b[0;32m      <a href='vscode-notebook-cell:/c%3A/Users/HanWen/Desktop/working/HDR/myHDR/HDR.ipynb#ch0000004?line=7'>8</a>\u001b[0m \u001b[39mprint\u001b[39m(\u001b[39m'\u001b[39m\u001b[39mfinish\u001b[39m\u001b[39m'\u001b[39m \u001b[39m+\u001b[39m img)\n\u001b[0;32m      <a href='vscode-notebook-cell:/c%3A/Users/HanWen/Desktop/working/HDR/myHDR/HDR.ipynb#ch0000004?line=8'>9</a>\u001b[0m i\u001b[39m+\u001b[39m\u001b[39m=\u001b[39m\u001b[39m1\u001b[39m\n",
      "\u001b[1;31mTypeError\u001b[0m: can only concatenate str (not \"method-wrapper\") to str"
     ]
    }
   ],
   "source": [
    "cv_img = []\n",
    "i = 0\n",
    "for img in glob.glob(\"data/*.png\"):\n",
    "    n = cv2.imread(img)\n",
    "    myimage = MyImage(n)\n",
    "    # myimage.convert_image()\n",
    "    cv2.imwrite('de' +i.__str__+ '.png', n)\n",
    "    print('finish' + img)\n",
    "    i+=1\n",
    "    #cv_img.append(myimage)\n",
    "    \n",
    "#print(cv_img) "
   ]
  },
  {
   "cell_type": "code",
   "execution_count": null,
   "metadata": {},
   "outputs": [],
   "source": []
  }
 ],
 "metadata": {
  "interpreter": {
   "hash": "520ad7d43cd87a71c504ba0d5c38a136d1ce336835c542f50fe8ebf5f7f4e4c2"
  },
  "kernelspec": {
   "display_name": "Python 3.6.8 ('ml2022')",
   "language": "python",
   "name": "python3"
  },
  "language_info": {
   "codemirror_mode": {
    "name": "ipython",
    "version": 3
   },
   "file_extension": ".py",
   "mimetype": "text/x-python",
   "name": "python",
   "nbconvert_exporter": "python",
   "pygments_lexer": "ipython3",
   "version": "3.8.12"
  },
  "orig_nbformat": 4
 },
 "nbformat": 4,
 "nbformat_minor": 2
}
